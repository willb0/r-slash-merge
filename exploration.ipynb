{
 "cells": [
  {
   "cell_type": "code",
   "execution_count": 6,
   "metadata": {},
   "outputs": [],
   "source": [
    "import praw\n",
    "CLIENT_ID = \"Iy-hbvXMSqeMJVZWVfrpUg\"\n",
    "CLIENT_SECRET = \"QsjGezAYk5Z_ck6juh_uPjMVmTnPHQ\"\n",
    "reddit = praw.Reddit(\n",
    "    client_id = CLIENT_ID,\n",
    "    client_secret = CLIENT_SECRET,\n",
    "    user_agent = \"Sneaky scraper\"\n",
    ")\n"
   ]
  },
  {
   "cell_type": "code",
   "execution_count": 7,
   "metadata": {},
   "outputs": [
    {
     "name": "stdout",
     "output_type": "stream",
     "text": [
      "['https://v.redd.it/ny3dy7pdn8291', 'https://v.redd.it/femoc9g77a291', 'https://v.redd.it/8k2w1x0n36291', 'https://v.redd.it/uac0kwpgc7291', 'https://v.redd.it/ufmqrm3zz8291', 'https://v.redd.it/ov3hpnjho9291', 'https://v.redd.it/rnom4cs5f3291', 'https://v.redd.it/j5t88gctpa291', 'https://v.redd.it/xzk013pkb8291', 'https://v.redd.it/vlxi9uawya291', 'https://v.redd.it/q6ocoj5eha291', 'https://v.redd.it/fmm9rhq66b291']\n"
     ]
    }
   ],
   "source": [
    "links = [submission.url for submission in reddit.subreddit('idiotsincars').hot(limit=20)]\n",
    "links = [link for link in links if link.split('.')[0][-1] == 'v']\n",
    "print(links)\n"
   ]
  },
  {
   "cell_type": "code",
   "execution_count": 11,
   "metadata": {},
   "outputs": [
    {
     "name": "stdout",
     "output_type": "stream",
     "text": [
      ">> Connecting...\n",
      ">> Scraping...\n",
      "ny3dy7pdn8291-DASH_720.mp4 exists!\n",
      ">> Connecting...\n",
      ">> Scraping...\n",
      ">> Downloading and Re-encoding...\n",
      ">> Video:\n",
      ">>>> [██████████████████████████████████████████████████] [2.28/2.28 MB]\n",
      ">> Audio:\n",
      ">>>> [██████████████████████████████████████████████████] [0.28/0.28 MB]\n",
      ">> Done\n",
      ">> Connecting...\n",
      ">> Scraping...\n",
      ">> Downloading and Re-encoding...\n",
      ">> Video:\n",
      ">>>> [██████████████████████████████████████████████████] [2.61/2.61 MB]\n",
      ">> Audio:\n",
      ">>>> [██████████████████████████████████████████████████] [0.14/0.14 MB]\n",
      ">> Done\n",
      ">> Connecting...\n",
      ">> Scraping...\n",
      ">> Downloading and Re-encoding...\n",
      ">> Video:\n",
      ">>>> [██████████████████████████████████████████████████] [3.99/3.99 MB]\n",
      ">> Audio:\n",
      ">>>> [██████████████████████████████████████████████████] [0.01/0.01 MB]\n",
      ">> Done\n",
      ">> Connecting...\n",
      ">> Scraping...\n",
      ">> Downloading and Re-encoding...\n",
      ">> Video:\n",
      ">>>> [██████████████████████████████████████████████████] [1.52/1.52 MB]\n",
      ">> Audio:\n",
      ">>>> [██████████████████████████████████████████████████] [0.08/0.08 MB]\n",
      ">> Done\n",
      ">> Connecting...\n",
      ">> Scraping...\n",
      ">> Downloading and Re-encoding...\n",
      ">> Video:\n",
      ">>>> [██████████████████████████████████████████████████] [10.83/10.83 MB]\n",
      ">> Audio:\n",
      ">>>> [██████████████████████████████████████████████████] [0.58/0.58 MB]\n",
      ">> Done\n",
      ">> Connecting...\n",
      ">> Scraping...\n",
      ">> Downloading and Re-encoding...\n",
      ">> Video:\n",
      ">>>> [██████████████████████████████████████████████████] [41.28/41.28 MB]\n",
      ">> Audio:\n",
      ">>>> [██████████████████████████████████████████████████] [4.50/4.50 MB]\n",
      ">> Done\n",
      ">> Connecting...\n",
      ">> Scraping...\n",
      ">> Downloading and Re-encoding...\n",
      ">> Video:\n",
      ">>>> [██████████████████████████████████████████████████] [3.86/3.86 MB]\n",
      ">> Audio:\n",
      ">>>> [██████████████████████████████████████████████████] [0.23/0.23 MB]\n",
      ">> Done\n",
      ">> Connecting...\n",
      ">> Scraping...\n",
      ">> Downloading and Re-encoding...\n",
      ">> Video:\n",
      ">>>> [██████████████████████████████████████████████████] [14.15/14.15 MB]\n",
      ">> Audio:\n",
      ">>>> [██████████████████████████████████████████████████] [0.03/0.03 MB]\n",
      ">> Done\n",
      ">> Connecting...\n",
      ">> Scraping...\n",
      ">> Downloading and Re-encoding...\n",
      ">> Video:\n",
      ">>>> [██████████████████████████████████████████████████] [7.82/7.82 MB]\n",
      ">> Audio:\n",
      ">>>> [██████████████████████████████████████████████████] [0.46/0.46 MB]\n",
      ">> Done\n",
      ">> Connecting...\n",
      ">> Scraping...\n",
      ">> Downloading and Re-encoding...\n",
      ">> Video:\n",
      ">>>> [██████████████████████████████████████████████████] [2.85/2.85 MB]\n",
      ">> Audio:\n",
      ">>>> [██████████████████████████████████████████████████] [0.01/0.01 MB]\n",
      ">> Done\n",
      ">> Connecting...\n",
      ">> Scraping...\n",
      ">> Downloading and Re-encoding...\n",
      ">> Video:\n",
      ">>>> [██████████████████████████████████████████████████] [0.95/0.95 MB]\n",
      ">> Audio:\n",
      ">>>> [██████████████████████████████████████████████████] [0.20/0.20 MB]\n",
      ">> Done\n"
     ]
    }
   ],
   "source": [
    "from redvid import Downloader\n",
    "\n",
    "dl = Downloader(max_q=True)\n",
    "for link in links:\n",
    "    dl.url = link\n",
    "    dl.download()\n"
   ]
  },
  {
   "cell_type": "code",
   "execution_count": 13,
   "metadata": {},
   "outputs": [],
   "source": [
    "!mkdir videos && mv *.mp4 videos"
   ]
  },
  {
   "cell_type": "code",
   "execution_count": 23,
   "metadata": {},
   "outputs": [],
   "source": [
    "!cd videos && ls -v | cat -n | while read n f; do mv -n \"$f\" \"$n.mp4\"; done \n"
   ]
  },
  {
   "cell_type": "code",
   "execution_count": 24,
   "metadata": {},
   "outputs": [
    {
     "name": "stdout",
     "output_type": "stream",
     "text": [
      "total 220760\n",
      "drwxr-xr-x  14 wcbell  staff       448 May 28 17:48 \u001b[34m.\u001b[m\u001b[m\n",
      "drwxr-xr-x   6 wcbell  staff       192 May 28 17:43 \u001b[34m..\u001b[m\u001b[m\n",
      "-rw-r--r--   1 wcbell  staff   2889827 May 28 17:42 1.mp4\n",
      "-rw-r--r--   1 wcbell  staff   1679432 May 28 17:42 10.mp4\n",
      "-rw-r--r--   1 wcbell  staff   8692356 May 28 17:43 11.mp4\n",
      "-rw-r--r--   1 wcbell  staff  14885589 May 28 17:43 12.mp4\n",
      "-rw-r--r--   1 wcbell  staff   2693525 May 28 17:42 2.mp4\n",
      "-rw-r--r--   1 wcbell  staff   1213908 May 28 17:43 3.mp4\n",
      "-rw-r--r--   1 wcbell  staff   4289998 May 28 17:43 4.mp4\n",
      "-rw-r--r--   1 wcbell  staff   9422983 May 28 17:40 5.mp4\n",
      "-rw-r--r--   1 wcbell  staff  11972920 May 28 17:43 6.mp4\n",
      "-rw-r--r--   1 wcbell  staff   3004886 May 28 17:43 7.mp4\n",
      "-rw-r--r--   1 wcbell  staff  48054342 May 28 17:43 8.mp4\n",
      "-rw-r--r--   1 wcbell  staff   4196487 May 28 17:42 9.mp4\n"
     ]
    }
   ],
   "source": [
    "!ls -al videos"
   ]
  },
  {
   "cell_type": "code",
   "execution_count": 25,
   "metadata": {},
   "outputs": [
    {
     "name": "stdout",
     "output_type": "stream",
     "text": [
      "ffmpeg version 5.0.1 Copyright (c) 2000-2022 the FFmpeg developers\n",
      "  built with Apple clang version 13.1.6 (clang-1316.0.21.2)\n",
      "  configuration: --prefix=/opt/homebrew/Cellar/ffmpeg/5.0.1 --enable-shared --enable-pthreads --enable-version3 --cc=clang --host-cflags= --host-ldflags= --enable-ffplay --enable-gnutls --enable-gpl --enable-libaom --enable-libbluray --enable-libdav1d --enable-libmp3lame --enable-libopus --enable-librav1e --enable-librist --enable-librubberband --enable-libsnappy --enable-libsrt --enable-libtesseract --enable-libtheora --enable-libvidstab --enable-libvmaf --enable-libvorbis --enable-libvpx --enable-libwebp --enable-libx264 --enable-libx265 --enable-libxml2 --enable-libxvid --enable-lzma --enable-libfontconfig --enable-libfreetype --enable-frei0r --enable-libass --enable-libopencore-amrnb --enable-libopencore-amrwb --enable-libopenjpeg --enable-libspeex --enable-libsoxr --enable-libzmq --enable-libzimg --disable-libjack --disable-indev=jack --enable-videotoolbox --enable-neon\n",
      "  libavutil      57. 17.100 / 57. 17.100\n",
      "  libavcodec     59. 18.100 / 59. 18.100\n",
      "  libavformat    59. 16.100 / 59. 16.100\n",
      "  libavdevice    59.  4.100 / 59.  4.100\n",
      "  libavfilter     8. 24.100 /  8. 24.100\n",
      "  libswscale      6.  4.100 /  6.  4.100\n",
      "  libswresample   4.  3.100 /  4.  3.100\n",
      "  libpostproc    56.  3.100 / 56.  3.100\n",
      "\u001b[0;35m[mov,mp4,m4a,3gp,3g2,mj2 @ 0x12a7239e0] \u001b[0mAuto-inserting h264_mp4toannexb bitstream filter\n",
      "Input #0, concat, from 'list.txt':\n",
      "  Duration: N/A, start: 0.000000, bitrate: 2496 kb/s\n",
      "  Stream #0:0(eng): Video: h264 (Main) (avc1 / 0x31637661), yuv420p(tv, smpte170m/bt470bg/smpte170m, progressive), 406x720 [SAR 405:406 DAR 9:16], 2369 kb/s, 30 fps, 30 tbr, 12k tbn\n",
      "    Metadata:\n",
      "      handler_name    : Bento4 Video Handler\n",
      "      vendor_id       : [0][0][0][0]\n",
      "  Stream #0:1(eng): Audio: aac (LC) (mp4a / 0x6134706D), 48000 Hz, stereo, fltp, 126 kb/s\n",
      "    Metadata:\n",
      "      handler_name    : Bento4 Sound Handler\n",
      "      vendor_id       : [0][0][0][0]\n",
      "Stream mapping:\n",
      "  Stream #0:0 -> #0:0 (h264 (native) -> h264 (libx264))\n",
      "  Stream #0:1 -> #0:1 (aac (native) -> aac (native))\n",
      "Press [q] to stop, [?] for help\n",
      "\u001b[1;36m[libx264 @ 0x12a725e10] \u001b[0musing SAR=81/256\n",
      "\u001b[1;36m[libx264 @ 0x12a725e10] \u001b[0musing cpu capabilities: ARMv8 NEON\n",
      "\u001b[1;36m[libx264 @ 0x12a725e10] \u001b[0mprofile High, level 3.1, 4:2:0, 8-bit\n",
      "\u001b[1;36m[libx264 @ 0x12a725e10] \u001b[0m264 - core 163 r3060 5db6aa6 - H.264/MPEG-4 AVC codec - Copyleft 2003-2021 - http://www.videolan.org/x264.html - options: cabac=1 ref=3 deblock=1:0:0 analyse=0x3:0x113 me=hex subme=7 psy=1 psy_rd=1.00:0.00 mixed_ref=1 me_range=16 chroma_me=1 trellis=1 8x8dct=1 cqm=0 deadzone=21,11 fast_pskip=1 chroma_qp_offset=-2 threads=15 lookahead_threads=2 sliced_threads=0 nr=0 decimate=1 interlaced=0 bluray_compat=0 constrained_intra=0 bframes=3 b_pyramid=2 b_adapt=1 b_bias=0 direct=1 weightb=1 open_gop=0 weightp=2 keyint=250 keyint_min=25 scenecut=40 intra_refresh=0 rc_lookahead=40 rc=crf mbtree=1 crf=24.0 qcomp=0.60 qpmin=0 qpmax=69 qpstep=4 ip_ratio=1.40 aq=1:1.00\n",
      "Output #0, mp4, to 'stitched-video.mp4':\n",
      "  Metadata:\n",
      "    encoder         : Lavf59.16.100\n",
      "  Stream #0:0(eng): Video: h264 (avc1 / 0x31637661), yuv420p(tv, smpte170m/bt470bg/smpte170m, progressive), 1280x720 [SAR 81:256 DAR 9:16], q=2-31, 30 fps, 15360 tbn\n",
      "    Metadata:\n",
      "      handler_name    : Bento4 Video Handler\n",
      "      vendor_id       : [0][0][0][0]\n",
      "      encoder         : Lavc59.18.100 libx264\n",
      "    Side data:\n",
      "      cpb: bitrate max/min/avg: 0/0/0 buffer size: 0 vbv_delay: N/A\n",
      "  Stream #0:1(eng): Audio: aac (LC) (mp4a / 0x6134706D), 48000 Hz, stereo, fltp, 128 kb/s\n",
      "    Metadata:\n",
      "      handler_name    : Bento4 Sound Handler\n",
      "      vendor_id       : [0][0][0][0]\n",
      "      encoder         : Lavc59.18.100 aac\n",
      "\u001b[0;35m[mov,mp4,m4a,3gp,3g2,mj2 @ 0x12a618390] \u001b[0mAuto-inserting h264_mp4toannexb bitstream filter\n",
      "\u001b[0;35m[mov,mp4,m4a,3gp,3g2,mj2 @ 0x11a60a930] \u001b[0mAuto-inserting h264_mp4toannexb bitstream filter\n",
      "\u001b[0;35m[mov,mp4,m4a,3gp,3g2,mj2 @ 0x11a60a930] \u001b[0mAuto-inserting h264_mp4toannexb bitstream filterd=12.1x    \n",
      "\u001b[0;35m[mov,mp4,m4a,3gp,3g2,mj2 @ 0x10a009e80] \u001b[0mAuto-inserting h264_mp4toannexb bitstream filterd=  10x    \n",
      "\u001b[0;35m[mov,mp4,m4a,3gp,3g2,mj2 @ 0x11a605ae0] \u001b[0mAuto-inserting h264_mp4toannexb bitstream filterd=9.99x    \n",
      "\u001b[0;35m[mov,mp4,m4a,3gp,3g2,mj2 @ 0x10a207ac0] \u001b[0mAuto-inserting h264_mp4toannexb bitstream filterd=10.2x    \n",
      "\u001b[0;35m[mov,mp4,m4a,3gp,3g2,mj2 @ 0x108f06e10] \u001b[0mAuto-inserting h264_mp4toannexb bitstream filterd=9.92x    \n",
      "\u001b[0;35m[mov,mp4,m4a,3gp,3g2,mj2 @ 0x10a00fa40] \u001b[0mAuto-inserting h264_mp4toannexb bitstream filterd= 9.4x    \n",
      "\u001b[0;35m[mov,mp4,m4a,3gp,3g2,mj2 @ 0x12a61ccf0] \u001b[0mAuto-inserting h264_mp4toannexb bitstream filterd=9.41x    \n",
      "\u001b[0;35m[mov,mp4,m4a,3gp,3g2,mj2 @ 0x108f09f00] \u001b[0mAuto-inserting h264_mp4toannexb bitstream filterd=9.33x    \n",
      "\u001b[0;35m[mov,mp4,m4a,3gp,3g2,mj2 @ 0x12a793270] \u001b[0mAuto-inserting h264_mp4toannexb bitstream filterd=7.55x    \n",
      "frame=15852 fps=225 q=-1.0 Lsize=  164494kB time=00:08:48.49 bitrate=2549.8kbits/s dup=6 drop=0 speed=7.49x    \n",
      "video:157318kB audio:6617kB subtitle:0kB other streams:0kB global headers:0kB muxing overhead: 0.341083%\n",
      "\u001b[1;36m[libx264 @ 0x12a725e10] \u001b[0mframe I:101   Avg QP:21.78  size: 40027\n",
      "\u001b[1;36m[libx264 @ 0x12a725e10] \u001b[0mframe P:5777  Avg QP:24.86  size: 18325\n",
      "\u001b[1;36m[libx264 @ 0x12a725e10] \u001b[0mframe B:9974  Avg QP:27.20  size:  5132\n",
      "\u001b[1;36m[libx264 @ 0x12a725e10] \u001b[0mconsecutive B-frames: 10.6% 12.4% 12.3% 64.7%\n",
      "\u001b[1;36m[libx264 @ 0x12a725e10] \u001b[0mmb I  I16..4: 19.5% 63.6% 16.9%\n",
      "\u001b[1;36m[libx264 @ 0x12a725e10] \u001b[0mmb P  I16..4:  7.2% 14.9%  2.0%  P16..4: 33.7% 13.7%  5.1%  0.0%  0.0%    skip:23.4%\n",
      "\u001b[1;36m[libx264 @ 0x12a725e10] \u001b[0mmb B  I16..4:  0.8%  1.1%  0.1%  B16..8: 34.5%  5.9%  0.9%  direct: 1.6%  skip:55.2%  L0:49.5% L1:44.8% BI: 5.6%\n",
      "\u001b[1;36m[libx264 @ 0x12a725e10] \u001b[0m8x8 transform intra:61.2% inter:70.7%\n",
      "\u001b[1;36m[libx264 @ 0x12a725e10] \u001b[0mcoded y,uvDC,uvAC intra: 38.0% 43.2% 6.7% inter: 12.0% 11.3% 0.2%\n",
      "\u001b[1;36m[libx264 @ 0x12a725e10] \u001b[0mi16 v,h,dc,p: 22% 39%  8% 32%\n",
      "\u001b[1;36m[libx264 @ 0x12a725e10] \u001b[0mi8 v,h,dc,ddl,ddr,vr,hd,vl,hu: 15% 29% 25%  4%  5%  4%  8%  4%  6%\n",
      "\u001b[1;36m[libx264 @ 0x12a725e10] \u001b[0mi4 v,h,dc,ddl,ddr,vr,hd,vl,hu: 19% 33% 15%  4%  6%  4%  9%  3%  5%\n",
      "\u001b[1;36m[libx264 @ 0x12a725e10] \u001b[0mi8c dc,h,v,p: 60% 23% 13%  4%\n",
      "\u001b[1;36m[libx264 @ 0x12a725e10] \u001b[0mWeighted P-Frames: Y:1.5% UV:0.6%\n",
      "\u001b[1;36m[libx264 @ 0x12a725e10] \u001b[0mref P L0: 69.1% 17.2% 10.4%  3.2%  0.0%\n",
      "\u001b[1;36m[libx264 @ 0x12a725e10] \u001b[0mref B L0: 93.0%  6.0%  1.1%\n",
      "\u001b[1;36m[libx264 @ 0x12a725e10] \u001b[0mref B L1: 97.9%  2.1%\n",
      "\u001b[1;36m[libx264 @ 0x12a725e10] \u001b[0mkb/s:2438.95\n",
      "\u001b[1;36m[aac @ 0x12a727390] \u001b[0mQavg: 19048.180\n"
     ]
    }
   ],
   "source": [
    "!for f in videos/*.mp4 ; do echo file \\'$f\\' >> list.txt; done && ffmpeg -f concat -safe 0 -i list.txt -s 1280x720 -crf 24 stitched-video.mp4 && rm list.txt\n"
   ]
  },
  {
   "cell_type": "code",
   "execution_count": 28,
   "metadata": {},
   "outputs": [
    {
     "name": "stdout",
     "output_type": "stream",
     "text": [
      "exploration.ipynb  \u001b[34mredvid_temp\u001b[m\u001b[m        stitched-video.mp4 \u001b[34mvideos\u001b[m\u001b[m\n"
     ]
    }
   ],
   "source": [
    "!ls"
   ]
  },
  {
   "cell_type": "code",
   "execution_count": null,
   "metadata": {},
   "outputs": [],
   "source": []
  },
  {
   "cell_type": "code",
   "execution_count": null,
   "metadata": {},
   "outputs": [],
   "source": []
  },
  {
   "cell_type": "code",
   "execution_count": null,
   "metadata": {},
   "outputs": [],
   "source": []
  }
 ],
 "metadata": {
  "interpreter": {
   "hash": "f22c396ee3da5f02c440525e1e2eb86f712fbcc772ed79e7bf40367ad86f4d59"
  },
  "kernelspec": {
   "display_name": "rs",
   "language": "python",
   "name": "rs"
  },
  "language_info": {
   "codemirror_mode": {
    "name": "ipython",
    "version": 3
   },
   "file_extension": ".py",
   "mimetype": "text/x-python",
   "name": "python",
   "nbconvert_exporter": "python",
   "pygments_lexer": "ipython3",
   "version": "3.9.13"
  },
  "orig_nbformat": 4
 },
 "nbformat": 4,
 "nbformat_minor": 2
}
